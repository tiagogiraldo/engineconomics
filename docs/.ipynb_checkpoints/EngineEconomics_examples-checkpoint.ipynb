{
 "cells": [
  {
   "cell_type": "markdown",
   "id": "3c86fee5-b7dd-4618-9404-f425670330f9",
   "metadata": {},
   "source": [
    "# EngineEconomics\n",
    "\n",
    "This library is designed to perform calculations related to Engineering Economics, Finance, Banking, Project Assessment, and Economics related to the Time Value of Money. \n",
    "\n",
    "The library consists of 5 classes:\n",
    "\n",
    "\n",
    "- factor: designed to calculate the factors to which discrete cash flows relate.\n",
    "\n",
    "- time_value: This class is used to estimate the values of money over time according to the type of cash flow to be found.\n",
    "\n",
    "- time_value_plot: This class allows to plot in a simple way the cash flows according to the factor used.\n",
    "\n",
    "- time_value_table: This class is used to generate dataframes in pandas.\n",
    "\n",
    "- compound_interest: This class allows interest rate conversions between different time periods."
   ]
  }
 ],
 "metadata": {
  "kernelspec": {
   "display_name": "Python 3 (ipykernel)",
   "language": "python",
   "name": "python3"
  },
  "language_info": {
   "codemirror_mode": {
    "name": "ipython",
    "version": 3
   },
   "file_extension": ".py",
   "mimetype": "text/x-python",
   "name": "python",
   "nbconvert_exporter": "python",
   "pygments_lexer": "ipython3",
   "version": "3.9.16"
  }
 },
 "nbformat": 4,
 "nbformat_minor": 5
}
