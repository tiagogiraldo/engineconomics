{
 "cells": [
  {
   "cell_type": "markdown",
   "id": "54203f79",
   "metadata": {},
   "source": [
    "# Interest Rates Conversions\n",
    "\n",
    "\n",
    "Interest rates are of fundamental importance in financial and economic analysis. In people's day-to-day lives, they play a significant role for almost everyone.  This notebook explains how the EngineEconomic library treats interest rates, conversions and everything related to them from an engineering economic point of view."
   ]
  },
  {
   "cell_type": "markdown",
   "id": "a872229f",
   "metadata": {},
   "source": [
    "# 1. Loading dependencies\n",
    "\n",
    "The library consists of 5 classes:\n",
    "\n",
    "\n",
    "- factor: designed to calculate the factors to which discrete cash flows relate.\n",
    "\n",
    "- time_value: This class is used to estimate the values of money over time according to the type of cash flow to be found.\n",
    "\n",
    "- time_value_plot: This class allows to plot in a simple way the cash flows according to the factor used.\n",
    "\n",
    "- time_value_table: This class is used to generate dataframes in pandas.\n",
    "\n",
    "- compound_interest: This class allows interest rate conversions between different time periods."
   ]
  },
  {
   "cell_type": "code",
   "execution_count": 1,
   "id": "05ec0e50",
   "metadata": {},
   "outputs": [],
   "source": [
    "from engineconomics import factor\n",
    "from engineconomics import time_value\n",
    "from engineconomics import time_value_plot\n",
    "from engineconomics import time_value_table\n",
    "from engineconomics import compound_interest"
   ]
  },
  {
   "cell_type": "markdown",
   "id": "efd09a6d",
   "metadata": {},
   "source": [
    "## 1.2 Instantiating objects"
   ]
  },
  {
   "cell_type": "code",
   "execution_count": 2,
   "id": "a81d2f49",
   "metadata": {},
   "outputs": [],
   "source": [
    "fc = factor()\n",
    "tv = time_value()\n",
    "tvp = time_value_plot()\n",
    "tvt = time_value_table()\n",
    "ci = compound_interest()"
   ]
  },
  {
   "cell_type": "markdown",
   "id": "ac79874c",
   "metadata": {},
   "source": [
    "# 2. Simple and Compund Interest\n",
    "\n",
    "Some definitions before continue:\n",
    "\n",
    "- **Simple interest**: is characterized by the fact that the economic remuneration caused is not reinvested or capitalized, but is paid in each agreed causation period.\n",
    "\n",
    "- **Effective interest**: Compound interest occurs when accrued interest is reinvested at the time it is received or incurred, adding it to the principal to generate new principal which, in turn, generates interest.\n",
    "\n",
    "- **Annual nominal interest rate** is one in which the advertised interest rate is almost always expressed as a rate referred to an annual basis (explicit or tacit), but is immediately followed by the actual period of application and the mode of payment, whether in advance or at maturity.\n",
    "\n",
    "- **The annual effective interest rate**: is that which, applied once a year, produces or would produce the same future value as that obtained or would be obtained at the end of a year, by applying and capitalizing the periodic rate, under the same initial conditions \"n\" times during a year.   When speaking of compound interest, the monthly interest rate (e.g.) is not equivalent to that which results from dividing the annual rate by 12.\n",
    "\n",
    "\n",
    "The following functions are available in the ege library: \n",
    "\n",
    "- 2.1 Single Payment Interest.\n",
    "- 2.2 Effective Interest Per Time Period.\n",
    "- 2.3 Interest Paid In Advance Per Time Period.\n",
    "- 2.4 Interest Paid at Maturity Per Time Period.\n",
    "- 2.5 Discrete interest Rate or Compounding interest rate.\n",
    "- 2.6 Continuous Interest Rate to Discrete Interest Rate.\n",
    "- 2.7 Discrete Interest Rate to Continuous Interest Rate.\n",
    "- 2.8 Internal Rate of Return\n",
    "\n",
    "\n",
    "They allow to convert, as appropriate, one interest rate into another."
   ]
  },
  {
   "cell_type": "markdown",
   "id": "beb2a5f5",
   "metadata": {},
   "source": [
    "## 2.1  Single Payment Interest\n",
    "\n",
    "\n",
    "**formula:**\n",
    "$$\n",
    "\\begin{align*}\n",
    "\\large\n",
    "i = {(\\frac{F}{P})}^{\\frac{1}{n}}-1\n",
    "\\end{align*}\n",
    "$$\n",
    "\n",
    "- i: Single Payment Interest\n",
    "- F: Future Value\n",
    "- P: Present Value\n",
    "- n: Compounding períods"
   ]
  },
  {
   "cell_type": "markdown",
   "id": "ed804762",
   "metadata": {},
   "source": [
    "- What is the interest earned on a \\\\$1,000.00 investment yielding \\\\$1,155.00 at the end of the year?"
   ]
  },
  {
   "cell_type": "code",
   "execution_count": 3,
   "id": "33607a5a",
   "metadata": {},
   "outputs": [
    {
     "data": {
      "text/plain": [
       "0.15500000000000003"
      ]
     },
     "execution_count": 3,
     "metadata": {},
     "output_type": "execute_result"
    }
   ],
   "source": [
    "# Math computation\n",
    "\n",
    "FV = 1_155\n",
    "PV = 1_000\n",
    "n = 1\n",
    "\n",
    "i_m = (FV/PV)**(1/n)-1\n",
    "i_m"
   ]
  },
  {
   "cell_type": "code",
   "execution_count": 4,
   "id": "ab1bb62f",
   "metadata": {},
   "outputs": [
    {
     "data": {
      "text/plain": [
       "0.15500000000000003"
      ]
     },
     "execution_count": 4,
     "metadata": {},
     "output_type": "execute_result"
    }
   ],
   "source": [
    "# function\n",
    "\n",
    "i_f = ci.spi(pv=PV, fv=FV, n=n)\n",
    "i_f"
   ]
  },
  {
   "cell_type": "code",
   "execution_count": 5,
   "id": "bdb078e1",
   "metadata": {},
   "outputs": [],
   "source": [
    "# Sanity check\n",
    "assert i_m == i_f"
   ]
  },
  {
   "cell_type": "markdown",
   "id": "2bbcac89",
   "metadata": {},
   "source": [
    "## 2.2 Effective Interest Per Time Period\n",
    "\n",
    "**formula:**\n",
    "$$\n",
    "\\begin{align*}\n",
    "\\large\n",
    "i = ( 1 + \\frac{r}{m})^{m} - 1\n",
    "\\end{align*}\n",
    "$$\n",
    "\n",
    "\n",
    "Where: \n",
    "\n",
    "- r:  Nominal Interest Rate For Same Time Period.\n",
    "- m:  Number of Times Interest Is Compounded Per Stated Time Period."
   ]
  },
  {
   "cell_type": "markdown",
   "id": "a69b60c7",
   "metadata": {},
   "source": [
    "What is the effective interest rate for a nominal rate of 12% compounded quarterly?"
   ]
  },
  {
   "cell_type": "code",
   "execution_count": 6,
   "id": "d34991a8",
   "metadata": {},
   "outputs": [
    {
     "data": {
      "text/plain": [
       "0.12682503013196977"
      ]
     },
     "execution_count": 6,
     "metadata": {},
     "output_type": "execute_result"
    }
   ],
   "source": [
    "# Math computation\n",
    "\n",
    "r = 0.12\n",
    "m = 12\n",
    "\n",
    "i_m = (1+ r/m)**(m)-1\n",
    "i_m"
   ]
  },
  {
   "cell_type": "code",
   "execution_count": 7,
   "id": "104e2310",
   "metadata": {},
   "outputs": [
    {
     "data": {
      "text/plain": [
       "0.12682503013196977"
      ]
     },
     "execution_count": 7,
     "metadata": {},
     "output_type": "execute_result"
    }
   ],
   "source": [
    "# Function\n",
    "\n",
    "i_f = ci.ei(r, m)\n",
    "i_f"
   ]
  },
  {
   "cell_type": "code",
   "execution_count": 8,
   "id": "fde4646a",
   "metadata": {},
   "outputs": [],
   "source": [
    "# Sanity check\n",
    "\n",
    "assert i_m == i_f"
   ]
  },
  {
   "cell_type": "markdown",
   "id": "e7d6df53",
   "metadata": {},
   "source": [
    "##  2.3 Interest Paid In Advance Per Time Period\n",
    "\n",
    "\n",
    "**formula:**\n",
    "$$\n",
    "\\begin{align*}\n",
    "\\large\n",
    "i_e = \\frac{i_a}{ 1 - i_a}\n",
    "\\end{align*}\n",
    "$$\n",
    "\n",
    "\n",
    "Where:\n",
    "\n",
    "- i_a: Interest paid in advance\n",
    "- i_e: Interest due"
   ]
  },
  {
   "cell_type": "markdown",
   "id": "b76c086c",
   "metadata": {},
   "source": [
    "Change from an anticipated interest rate to a past due interest rate"
   ]
  },
  {
   "cell_type": "code",
   "execution_count": 9,
   "id": "85f120ba",
   "metadata": {},
   "outputs": [
    {
     "name": "stdout",
     "output_type": "stream",
     "text": [
      "Interest paid in advance:  2.00%\n",
      "Interest due rate quaterly:  2.04%\n"
     ]
    }
   ],
   "source": [
    "# Math computation\n",
    "\n",
    "i_a = 0.02\n",
    "\n",
    "i_q = i_a / (1-i_a)\n",
    "\n",
    "print(f'Interest paid in advance: {i_a: .2%}\\\n",
    "\\nInterest due rate quaterly: {i_q: .2%}')"
   ]
  },
  {
   "cell_type": "code",
   "execution_count": 10,
   "id": "70054ca5",
   "metadata": {},
   "outputs": [
    {
     "name": "stdout",
     "output_type": "stream",
     "text": [
      "Interest paid in advance:  2.00%\n",
      "Interest due rate quaterly:  2.04%\n"
     ]
    }
   ],
   "source": [
    "i_q_f = ci.ipm(i_a)\n",
    "\n",
    "print(f'Interest paid in advance: {i_a: .2%}\\\n",
    "\\nInterest due rate quaterly: {i_q_f: .2%}')"
   ]
  },
  {
   "cell_type": "code",
   "execution_count": 11,
   "id": "0551ad1c",
   "metadata": {},
   "outputs": [],
   "source": [
    "# Sanity check\n",
    "assert i_q == i_q_f"
   ]
  },
  {
   "cell_type": "markdown",
   "id": "be2c3ea6",
   "metadata": {},
   "source": [
    "## 2.4 Interest Paid at Maturity Per Time Period\n",
    "\n",
    "\n",
    "**formula:**\n",
    "$$\n",
    "\\begin{align*}\n",
    "\\large\n",
    "i_a = \\frac{i_e}{ 1 + i_e}\n",
    "\\end{align*}\n",
    "$$\n",
    "\n",
    "\n",
    "Where:\n",
    "\n",
    "- i_a: Interest paid in advance\n",
    "- i_e: Interest due"
   ]
  },
  {
   "cell_type": "markdown",
   "id": "ff576df4",
   "metadata": {},
   "source": [
    "Change from an due interest rate rate to an anticipated interest"
   ]
  },
  {
   "cell_type": "code",
   "execution_count": 15,
   "id": "0ff5176a",
   "metadata": {},
   "outputs": [
    {
     "name": "stdout",
     "output_type": "stream",
     "text": [
      "Interest paid in advance:  2.00%\n",
      "Interest due rate quaterly:  2.04%\n"
     ]
    }
   ],
   "source": [
    "# Math computation\n",
    "\n",
    "i_qm = 2.04/100\n",
    "\n",
    "i_a = i_qm / (1 + i_qm)\n",
    "\n",
    "print(f'Interest paid in advance: {i_a: .2%}\\\n",
    "\\nInterest due rate quaterly: {i_qm: .2%}')"
   ]
  },
  {
   "cell_type": "code",
   "execution_count": 16,
   "id": "ad28f36a",
   "metadata": {},
   "outputs": [
    {
     "ename": "TypeError",
     "evalue": "'float' object is not callable",
     "output_type": "error",
     "traceback": [
      "\u001b[0;31m---------------------------------------------------------------------------\u001b[0m",
      "\u001b[0;31mTypeError\u001b[0m                                 Traceback (most recent call last)",
      "Cell \u001b[0;32mIn[16], line 1\u001b[0m\n\u001b[0;32m----> 1\u001b[0m i_a_f \u001b[38;5;241m=\u001b[39m \u001b[43mci\u001b[49m\u001b[38;5;241;43m.\u001b[39;49m\u001b[43mipa\u001b[49m\u001b[43m(\u001b[49m\u001b[43mi_qm\u001b[49m\u001b[43m)\u001b[49m\n\u001b[1;32m      3\u001b[0m \u001b[38;5;28mprint\u001b[39m(\u001b[38;5;124mf\u001b[39m\u001b[38;5;124m'\u001b[39m\u001b[38;5;124mInterest paid in advance: \u001b[39m\u001b[38;5;132;01m{\u001b[39;00mi_a_f\u001b[38;5;132;01m:\u001b[39;00m\u001b[38;5;124m .2%\u001b[39m\u001b[38;5;132;01m}\u001b[39;00m\u001b[38;5;130;01m\\\u001b[39;00m\n\u001b[1;32m      4\u001b[0m \u001b[38;5;130;01m\\n\u001b[39;00m\u001b[38;5;124mInterest due rate quaterly: \u001b[39m\u001b[38;5;132;01m{\u001b[39;00mi_qm\u001b[38;5;132;01m:\u001b[39;00m\u001b[38;5;124m .2%\u001b[39m\u001b[38;5;132;01m}\u001b[39;00m\u001b[38;5;124m'\u001b[39m)\n",
      "\u001b[0;31mTypeError\u001b[0m: 'float' object is not callable"
     ]
    }
   ],
   "source": [
    "i_a_f = ci.ipa(i_qm)\n",
    "\n",
    "print(f'Interest paid in advance: {i_a_f: .2%}\\\n",
    "\\nInterest due rate quaterly: {i_qm: .2%}')"
   ]
  },
  {
   "cell_type": "code",
   "execution_count": null,
   "id": "47eaef3e",
   "metadata": {},
   "outputs": [],
   "source": [
    "# Sanity check\n",
    "print(i_a, i_a_f)\n",
    "#assert i_a == i_a_f"
   ]
  },
  {
   "cell_type": "code",
   "execution_count": null,
   "id": "23aa8745",
   "metadata": {},
   "outputs": [],
   "source": [
    "i_a_f2 = ci.ipm(i_q)\n",
    "\n",
    "print(f'Interest paid in advance: {i_a_f: .2%}\\\n",
    "\\nInterest due rate quaterly: {i_q: .2%}')"
   ]
  },
  {
   "cell_type": "code",
   "execution_count": null,
   "id": "2f29453b",
   "metadata": {},
   "outputs": [],
   "source": [
    "assert i_a == i_a_f2"
   ]
  },
  {
   "cell_type": "code",
   "execution_count": null,
   "id": "e80bd950",
   "metadata": {},
   "outputs": [],
   "source": []
  },
  {
   "cell_type": "markdown",
   "id": "fa29be64",
   "metadata": {},
   "source": [
    "## 2.5 Discrete Interest Rate or Compounding Interest Rate\n",
    "\n",
    "\n",
    "**formula:**\n",
    "$$\n",
    "\\begin{align*}\n",
    "\\large\n",
    "i = ( 1 + r)^{\\frac{1}{m}} - 1\n",
    "\\end{align*}\n",
    "$$\n"
   ]
  },
  {
   "cell_type": "code",
   "execution_count": null,
   "id": "7975346e",
   "metadata": {},
   "outputs": [],
   "source": [
    "r = 0.2\n",
    "m = 6\n",
    "\n",
    "i_m = (1+r)**(1/m) -1\n",
    "i_m"
   ]
  },
  {
   "cell_type": "code",
   "execution_count": null,
   "id": "925162e3",
   "metadata": {},
   "outputs": [],
   "source": [
    "i_f = ci.di(r, m)"
   ]
  },
  {
   "cell_type": "code",
   "execution_count": null,
   "id": "e82d4ec9",
   "metadata": {},
   "outputs": [],
   "source": [
    "assert i_m = i_m"
   ]
  },
  {
   "cell_type": "code",
   "execution_count": null,
   "id": "1893ee4b",
   "metadata": {},
   "outputs": [],
   "source": [
    "r = 0.015\n",
    "m = 12\n",
    "\n",
    "i_m = (1+r)**(m) -1\n",
    "i_m"
   ]
  },
  {
   "cell_type": "code",
   "execution_count": null,
   "id": "96c718f3",
   "metadata": {},
   "outputs": [],
   "source": [
    "i_f = ci.di(r, 1/m)"
   ]
  },
  {
   "cell_type": "code",
   "execution_count": null,
   "id": "70303b96",
   "metadata": {},
   "outputs": [],
   "source": [
    "i_f"
   ]
  },
  {
   "cell_type": "markdown",
   "id": "8f6e0f3b",
   "metadata": {},
   "source": [
    "## 2.6 Continuous Interest Rate to Discrete Interest Rate\n",
    "\n",
    "exp(self.r) -1 \n",
    "\n",
    "**formula:**\n",
    "$$\n",
    "\\begin{align*}\n",
    "\\large\n",
    "i_c = e^{i} - 1\n",
    "\\end{align*}\n",
    "$$"
   ]
  },
  {
   "cell_type": "code",
   "execution_count": null,
   "id": "f714939d",
   "metadata": {},
   "outputs": [],
   "source": [
    "from math import exp\n",
    "i = 0.01\n",
    "ic = exp(i) -1 \n",
    "ic"
   ]
  },
  {
   "cell_type": "code",
   "execution_count": null,
   "id": "aef85392",
   "metadata": {},
   "outputs": [],
   "source": [
    "icf = ci.cci(i)\n",
    "icf"
   ]
  },
  {
   "cell_type": "code",
   "execution_count": null,
   "id": "2723829f",
   "metadata": {},
   "outputs": [],
   "source": [
    "assert  ic == icf"
   ]
  },
  {
   "cell_type": "markdown",
   "id": "f8ab0c49",
   "metadata": {},
   "source": [
    "## 2.7 Discrete Interest Rate From Continous Interest Rate\n",
    "\n",
    "log(1 + self.i)\n",
    "\n",
    "\n",
    "**formula:**\n",
    "$$\n",
    "\\begin{align*}\n",
    "\\large\n",
    "i = ln(1+i_c)\n",
    "\\end{align*}\n",
    "$$"
   ]
  },
  {
   "cell_type": "code",
   "execution_count": null,
   "id": "df09ebd8",
   "metadata": {},
   "outputs": [],
   "source": [
    "from math import log\n",
    "\n",
    "idc = log(1+ic)\n",
    "idc"
   ]
  },
  {
   "cell_type": "code",
   "execution_count": null,
   "id": "64490521",
   "metadata": {},
   "outputs": [],
   "source": [
    "idcf = ci.dci(ic)\n",
    "idcf"
   ]
  },
  {
   "cell_type": "code",
   "execution_count": null,
   "id": "31f7c96b",
   "metadata": {},
   "outputs": [],
   "source": [
    "assert idc == idcf"
   ]
  },
  {
   "cell_type": "markdown",
   "id": "34066c23",
   "metadata": {},
   "source": [
    "## 2.8 Internal Rate of Return\n",
    "\n",
    "\n",
    "See Notebook 3. Discounted Cash Flow"
   ]
  },
  {
   "cell_type": "markdown",
   "id": "5794c063",
   "metadata": {},
   "source": [
    "# 4. References\n",
    "\n",
    "- Blank, Leland T., Tarquin, Anthony J.; Engineering economy; Eighth edition; New York; McGraw-Hill Education; 2017.\n",
    "\n",
    "- Chan S. Park.; Fundamentals of engineering economics; Fourth edition; Pearson Education, Inc.; 2019."
   ]
  },
  {
   "cell_type": "code",
   "execution_count": null,
   "id": "01e93f9b",
   "metadata": {},
   "outputs": [],
   "source": []
  }
 ],
 "metadata": {
  "kernelspec": {
   "display_name": "Python 3 (ipykernel)",
   "language": "python",
   "name": "python3"
  },
  "language_info": {
   "codemirror_mode": {
    "name": "ipython",
    "version": 3
   },
   "file_extension": ".py",
   "mimetype": "text/x-python",
   "name": "python",
   "nbconvert_exporter": "python",
   "pygments_lexer": "ipython3",
   "version": "3.9.16"
  }
 },
 "nbformat": 4,
 "nbformat_minor": 5
}
