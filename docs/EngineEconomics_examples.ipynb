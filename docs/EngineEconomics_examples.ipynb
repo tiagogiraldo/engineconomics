{
 "cells": [
  {
   "cell_type": "markdown",
   "id": "3c86fee5-b7dd-4618-9404-f425670330f9",
   "metadata": {},
   "source": [
    "# EngineEconomics\n",
    "\n",
    "This library is designed to perform calculations related to Engineering Economics, Finance, Banking, Project Assessment, and Economics related to the Time Value of Money. \n",
    "\n",
    "The library consists of 5 classes:\n",
    "\n",
    "\n",
    "- factor: designed to calculate the factors to which discrete cash flows relate.\n",
    "\n",
    "- time_value: This class is used to estimate the values of money over time according to the type of cash flow to be found.\n",
    "\n",
    "- time_value_plot: This class allows to plot in a simple way the cash flows according to the factor used.\n",
    "\n",
    "- time_value_table: This class is used to generate dataframes in pandas.\n",
    "\n",
    "- compound_interest: This class allows interest rate conversions between different time periods."
   ]
  },
  {
   "cell_type": "markdown",
   "id": "14c1d3c6-74d7-421a-bc80-a48cfd2200c3",
   "metadata": {},
   "source": [
    "# 1. Single pyments"
   ]
  },
  {
   "cell_type": "code",
   "execution_count": 1,
   "id": "267b3481-8145-48b6-a3a1-daa4c812923f",
   "metadata": {
    "tags": []
   },
   "outputs": [
    {
     "ename": "NameError",
     "evalue": "name 'contributors' is not defined",
     "output_type": "error",
     "traceback": [
      "\u001b[0;31m---------------------------------------------------------------------------\u001b[0m",
      "\u001b[0;31mNameError\u001b[0m                                 Traceback (most recent call last)",
      "Cell \u001b[0;32mIn[1], line 1\u001b[0m\n\u001b[0;32m----> 1\u001b[0m \u001b[38;5;28;01mfrom\u001b[39;00m \u001b[38;5;21;01mengineconomics\u001b[39;00m \u001b[38;5;28;01mimport\u001b[39;00m factor\n",
      "File \u001b[0;32m~/anaconda3/envs/ege/lib/python3.9/site-packages/engineconomics/__init__.py:70\u001b[0m\n\u001b[1;32m     68\u001b[0m \u001b[38;5;28;01mdel\u001b[39;00m contributors\n\u001b[1;32m     69\u001b[0m \u001b[38;5;28;01mdel\u001b[39;00m author_email\n\u001b[0;32m---> 70\u001b[0m \u001b[38;5;28;01mdel\u001b[39;00m contributors\n",
      "\u001b[0;31mNameError\u001b[0m: name 'contributors' is not defined"
     ]
    }
   ],
   "source": [
    "from engineconomics import factor"
   ]
  },
  {
   "cell_type": "code",
   "execution_count": null,
   "id": "f0ca5a96-3d42-4ea0-b57b-e2757817f667",
   "metadata": {},
   "outputs": [],
   "source": []
  }
 ],
 "metadata": {
  "kernelspec": {
   "display_name": "Python 3 (ipykernel)",
   "language": "python",
   "name": "python3"
  },
  "language_info": {
   "codemirror_mode": {
    "name": "ipython",
    "version": 3
   },
   "file_extension": ".py",
   "mimetype": "text/x-python",
   "name": "python",
   "nbconvert_exporter": "python",
   "pygments_lexer": "ipython3",
   "version": "3.9.16"
  }
 },
 "nbformat": 4,
 "nbformat_minor": 5
}
